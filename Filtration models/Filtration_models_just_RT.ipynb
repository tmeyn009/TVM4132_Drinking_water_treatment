{
 "cells": [
  {
   "cell_type": "markdown",
   "metadata": {},
   "source": [
    "# Introduction to filtration models\n",
    "\n",
    "This notebook introduces mechanistic filtration models, focusing mainly on the RT-model, which is an extension from the YAO-model. We will use the model to exolain in more detail what is happening inside a rapid filter with granular media.\n"
   ]
  },
  {
   "cell_type": "markdown",
   "metadata": {},
   "source": [
    "## 1. Theory of fundamental filtration models\n",
    "\n",
    "The basic model for water treatment applications was presented by Yao\n",
    "et al. (1971). Yao et al.’s theory is based on the accumulation of particles on\n",
    "a single filter grain (termed a ‘‘collector’’), which is then incorporated into\n",
    "a mass balance on a differential slice through a filter. The accumulation on\n",
    "a single collector is defined as the rate at which particles enter the region of\n",
    "influence of the collector multiplied by a transport efficiency factor and an\n",
    "attachment efficiency factor. The transport efficiency $\\eta$ and the attachment\n",
    "efficiency $\\alpha$ are ratios describing the fraction of particles contacting and\n",
    "adhering to the media grain, respectively, as described by the equations:\n",
    "\n",
    "$\\Large\\eta=\\frac{particles \\ contacting \\ collector}{particles \\ approaching  \\ collector}$\n",
    "\n",
    "$\\Large\\alpha=\\frac{particles \\ adhering \\ to  \\ collector}{particles \\ contacting \\ collector}$\n",
    "\n",
    "with:\\\n",
    "$\\eta = transport efficiency, dimensionless$\\\n",
    "$\\alpha = attachment efficiency, dimensionless$\n",
    "\n"
   ]
  },
  {
   "cell_type": "markdown",
   "metadata": {},
   "source": [
    "### 1.1 Particle concentration in dependence on filter depth\n",
    "\n",
    "If we want to know more about the removal of particles in a filter, we can use the following equation (textbook page 761):\n",
    "\n",
    "$ \\Large C=C_0exp[\\frac{-3(1-\\epsilon)\\eta\\alpha L}{2d_c}] $\n",
    "\n",
    "whith:\\\n",
    "$ C_0=particle \\ concentration \\ in \\ filter \\ influent, \\ mg/L $\\\n",
    "$ C=concentration \\ of \\ particles \\ at \\ given \\ L, \\ mg/L $\\\n",
    "$ \\epsilon=porosity,  \\ dimensionless $\\\n",
    "$ \\eta=transport  \\ efficiency, \\ dimensionless $\\\n",
    "$ \\alpha=attachment \\ efficiency, \\ dimensionless $\\\n",
    "$ L=depth of filter, \\ m $\\\n",
    "$ d_c=diameter \\ of \\ collector \\ (media grain), \\ m $\\\n",
    "\n",
    "Most of the parameters are determined by the selection of the filter material or the construction of the filter. $\\eta$ and $\\alpha$ depend on the filter operation. However, these parametes need to be determined if we want to make more suffisticated predictions. This can be achieved by applying fundamental filtration models.\n"
   ]
  },
  {
   "cell_type": "markdown",
   "metadata": {},
   "source": [
    "### 1.2 Transport mechanisms\n",
    "Many of these models concider the following mechanisms for transport of particles towards the collectors, the filer media grains: A = Intercpetion, B = Sedimentation, C = Diffusion.\n",
    "\n",
    "<img src=\"./img/transport_mechanisms.png\" alt=\"Alternative text\" width=\"500\" />\n",
    "\n",
    "The **Yao filtration model** is a fairly simple one, that frequently underpredicts the number of collisions between particles and collectors when compared to experimental data.\n",
    "Researchers have tried to refine the Yao model by using a different flow regime or incorporating addition transport mechanisms. Rajagopalan and Tien (1976) developed a fundamental depth filtration model (the **RT model**) that (1) concidered the influence of neighboring collectors on the flow pattern (2) accounted for the attraction between the collectors and particles caused by van der Waals forces (for interception and sedimentation only), and (3) accounted for reduced collisions due to viscous resistance of the water between the particle and collector. Tufenkji and Elimelech (2004) expanded the correlation\n",
    "further (the **TE model**) and more fully integrated van der Waal forces and hydrodynamic interactions into all transport mechanisms."
   ]
  },
  {
   "cell_type": "markdown",
   "metadata": {},
   "source": [
    "### 1.2.1 Interception\n",
    "\n",
    "Particles remaining centered on fluid streamlines that pass the collector\n",
    "surface by a distance of half the particle diameter or less will be intercepted.\n",
    "For laminar flow, spherical particles, and spherical collectors, particle\n",
    "transport by interception is given by the following expression (Yao et al.,\n",
    "1971):\n",
    "\n",
    "$ \\Large\\eta_{I,YAO}=\\frac{3}{2}(\\frac{d_p}{d_c})^2=\\frac{3}{2}(N_R)^2 $\n",
    "\n",
    "with:\\\n",
    "$\\eta_{I,yao}=transport \\ efficiency \\ due \\ to \\ interception, \\ dimensionless$\\\n",
    "$d_p=diameter \\ of \\ particle, \\ m$ \\\n",
    "$ N_R = relative size, \\ dimensionless$ \n",
    "\n",
    "From the equation it is obvious that interception increases as the ratio of particulate\n",
    "size to collector size increases.\n",
    "\n",
    "The TE model extends the equations for transport by interception as followed:\n",
    "\n",
    "$\\Large\\eta_{I,TE}=0.55A_SN_A^{1/8}N_R^{1.675} $\n",
    "\n",
    "There are several new terms compared to the YAO model. $A_S$ is dimensionless and corresponds to a porosity function:\n",
    "\n",
    "$\\Large A_S=\\frac{2(1-\\gamma^5)}{2-3\\gamma+3\\gamma^5-2\\gamma^6}$\n",
    "\n",
    "$ \\gamma$ is also dimensionells of called the porosity coefficient. It is related to the filter media porosity by:\n",
    "\n",
    "$ \\Large \\gamma=(1-\\epsilon)^{1/3} $\n",
    "\n",
    "$N_A$ is a term that describes van der Waals attraction forces and is called attraction number. It is dimensionless.\n",
    "\n",
    "$ \\Large N_A=\\frac{N_{vdW}}{N_RPe}=\\frac{Ha}{3\\pi\\mu d_p^2v_F} $\n",
    "\n",
    "$ N_{vdW} $ is the dimensionless van der Waals number, $ Pe $ is the dimensionless Peclet number and defined as the ratio of advective transport rate to mass diffusion rate. For physically similar systems, a lower value of the Peclet number implies greater significance of diffusion. $ H_a $ is the Hamaker constant with the unit $ J $. The Hamaker constant is a coefficient accounting for the van der Waals interaction between two materials, and it has a strong correlation with various physical phenomena, such as liquid wettability, adhesion, friction, adsorption, colloidal stability etc. $ v_F $ corresponds to the filtration rate in $ m/s $. \n",
    "\n"
   ]
  },
  {
   "cell_type": "markdown",
   "metadata": {},
   "source": [
    "### 1.2.2 Sedimentation\n",
    "\n",
    "Particles with a density significantly greater than water tend to deviate from\n",
    "fluid streamlines due to gravitational forces. The collector efficiency due\n",
    "to gravity has been shown to be the ratio of the Stokes settling velocity to the superficial velocity (Yao et al., 1971), as shown in the expression\n",
    "\n",
    "$ \\Large \\eta_{YAO}=\\frac{v_S}{v_F}=\\frac{g(\\rho_p-\\rho_w)d_p^2}{18\\mu v_F}=N_G $\n",
    "\n",
    "$ N_G $ is called the gravity number and is dimensionless. Again, the TE models extends that term by including more complex attraction forces and hydrodynamic interactions:\n",
    "\n",
    "\n",
    "$ \\Large \\eta_{,TE}= 0.22N_R^{-0.24}N_{vdW}^{0.053}N_G^{1.11} $\n",
    "\n",
    "$ N_G $ corresponds to the dimensionless gravity number.\n",
    "\n"
   ]
  },
  {
   "cell_type": "markdown",
   "metadata": {},
   "source": [
    "### 1.2.3 Diffusion\n",
    "\n",
    "Particles move by Brownian motion and will deviate from the fluid streamlines\n",
    "due to diffusion. The transport efficiency due to diffusion is given by\n",
    "the following expression (Levich, 1962):\n",
    "\n",
    "$ \\Large \\eta_{D,YAO}=4Pe^{-2/3} $\n",
    "\n",
    "$ \\Large Pe = \\frac{3\\pi d_pd_Cv}{k_BT} $\n",
    "\n",
    "$ k_B $ is the Boltzmann constant, $ 1.381 × 10^{−23} J/K $, $ T $ is the absolute temperature. In rapid filtration, diffusion is most significant for particles less than about\n",
    "1 μm in diameter.\n",
    "\n",
    "The more complex RT-model describes the transport efficiency due to diffusion like this:\n",
    "\n",
    "$ \\Large \\eta_{D,YAO}=2.4A_S^{1/3}N_R^{-0.081}N_{vdW}^{0.052}Pe^{-0.715}  $\n",
    "\n",
    "\n"
   ]
  },
  {
   "cell_type": "markdown",
   "metadata": {},
   "source": [
    "### 1.2.4 Total transport efficiency\n",
    "\n",
    "The relative importance of these various mechanisms for transporting the\n",
    "particle to the surface depends on the physical properties of the filtration\n",
    "system. The Yao model assumes that the transport mechanisms are additive:\n",
    "\n",
    "$ \\Large \\eta=\\eta_I+\\eta_G+\\eta_D $\n",
    "\n",
    "Small particles are efficiently removed by diffusion, whereas larger particles are removed mainly by sedimentation and interception. \n",
    "\n"
   ]
  },
  {
   "cell_type": "markdown",
   "metadata": {},
   "source": [
    "## 2. Influence of filtration paramaters on transport efficiency\n",
    "\n",
    "In this section we are going to compute the transport efficiency and see how it will change in dependence on selected filtration parameters."
   ]
  },
  {
   "cell_type": "markdown",
   "metadata": {},
   "source": [
    "### 2.1 Import of relevant packages and functions\n",
    "\n",
    "First, we need to import some stuff. We will also import all needed mathematial functions. All formulas described above have been defined in an external file, and can be modified there if needed. This has been done in the purpose of clarity."
   ]
  },
  {
   "cell_type": "code",
   "execution_count": 1,
   "metadata": {},
   "outputs": [],
   "source": [
    "# Import packages and modules\n",
    "import numpy as np \n",
    "import pandas as pd \n",
    "import matplotlib.pyplot as plt \n",
    "import seaborn as sns\n",
    "import filtration_functions as ff\n",
    "\n",
    "# Plotting style\n",
    "sns.set_style('darkgrid')\n",
    "plt.rcParams['figure.figsize'] = (20, 10)"
   ]
  },
  {
   "cell_type": "markdown",
   "metadata": {},
   "source": [
    "Next, we need to define some constants."
   ]
  },
  {
   "cell_type": "code",
   "execution_count": 2,
   "metadata": {},
   "outputs": [],
   "source": [
    "#Defining important constants\n",
    "\n",
    "MU = 10 ** (-6)              # Dynamic viscosity of fluid [kg/m*s]\n",
    "BOLZ = 1.381 * 10 ** (-23)   # Boltzmann constant [J/K]\n",
    "G = 9.81                     # Gravitational acceleration [m/s2]\n",
    "WATER_DENS = 1000            # Fluid density of water [kg/m3]\n",
    "HAM = 10 ** (-20)            # Hamaker constant [J]\n",
    "PI_VALUE = np.pi             # Pi constant"
   ]
  },
  {
   "cell_type": "markdown",
   "metadata": {},
   "source": [
    "In the following section, input parameters can be changed.\n",
    "\n",
    "| Parameter name | Unit | Description |\n",
    "|:---------------|:-------------|:------------|\n",
    "| interval | m and dimensionless | x- and y axis formating for figures |\n",
    "| collector | m| Collector diameter (Filter material) |\n",
    "| temp | °C | Water temperature |\n",
    "| porosity | dimensionless | Porosity of filter media |\n",
    "| particle_density | kg/m<sup>3</sup> | Density of filter grains |\n",
    "| filtration_rate | Filtration rate or velocity | m/h |"
   ]
  },
  {
   "cell_type": "code",
   "execution_count": 3,
   "metadata": {},
   "outputs": [],
   "source": [
    "\"\"\"Input values for calculations\"\"\"\n",
    "\n",
    "particle_size_range = np.logspace((-8), (-5), 100)\n",
    "# The particle size range that will be used for constructing the figures. The \n",
    "# range is stated as log units with the unit in meter, the last parameter indicates\n",
    "# the amount of values that will be computed\"\"\"\n",
    "\n",
    "collector_diam = 0.5 * 10 **(-3)\n",
    "#Collector (grain) diameter in meter\n",
    "\n",
    "temp = 15\n",
    "#Water temperature in degree celsius\n",
    "\n",
    "porosity = 0.42\n",
    "#Porosity of filter media, dimensionless\n",
    "\n",
    "particle_density = 1050\n",
    "# Assumed density of particles to be removed by the filter, in kg/m3\n",
    "\n",
    "filtration_rate = 10\n",
    "# Filtration rate vf in m/h\n"
   ]
  },
  {
   "cell_type": "markdown",
   "metadata": {},
   "source": [
    "Defining some functions will make live easier.\n",
    "\n",
    "**Gamma**: Porosity coefficient, dimensionless\\\n",
    "**A_s**: Porosity function, dimensionless"
   ]
  },
  {
   "cell_type": "code",
   "execution_count": 4,
   "metadata": {},
   "outputs": [
    {
     "name": "stdout",
     "output_type": "stream",
     "text": [
      "0.8339550915402607\n",
      "33.639141947446035\n"
     ]
    }
   ],
   "source": [
    "#Obtaining values for needed input parameters\n",
    "gamma = ff.calc_gamma(porosity)\n",
    "porosity_function = ff.calc_porosity_function(gamma)\n",
    "print(gamma)\n",
    "print(porosity_function)"
   ]
  },
  {
   "cell_type": "markdown",
   "metadata": {},
   "source": [
    "## Definition of functions\n",
    "\n",
    "In the next cells, we will define all neccessary functions for calculationg the transport efficiencies, separate for all relevant removal mechanisms: Diffusion, gravity and interception.\n"
   ]
  },
  {
   "cell_type": "markdown",
   "metadata": {},
   "source": [
    "\\\n",
    "Next, we will define the functions that will calculate the **total** transport efficiencies for all models.\n",
    "</br></br>\n"
   ]
  },
  {
   "cell_type": "markdown",
   "metadata": {},
   "source": [
    "To create some figures, we need to compute the transport efficiencies for the specified **interval**."
   ]
  },
  {
   "cell_type": "code",
   "execution_count": 6,
   "metadata": {},
   "outputs": [
    {
     "data": {
      "text/plain": [
       "\" #transport efficiency calculated for the Yao-model\\ntotal_Yao, diffusion_Yao, gravity_Yao, intercept_Yao = transport_efficiency_Yao()\\n\\na = pd.DataFrame(data = [total_Yao, diffusion_Yao, gravity_Yao, intercept_Yao], \\n                 index = ['Total', 'Diffusion', 'Gravity', 'Intercept'])\\na_t = a.T\\na_t = a_t.set_index(interval)\\n\\n#transport efficiency calculated for the RT-model\\ntotal_RT, diffusion_RT, gravity_RT, intercept_RT = transport_efficiency_RT()\\n\\nb = pd.DataFrame(data = [total_RT, diffusion_RT, gravity_RT, intercept_RT], \\n                 index = ['Total', 'Diffusion', 'Gravity', 'Intercept'])\\nb_t = b.T\\nb_t = b_t.set_index(interval)\\n\\n#trasnport efficiency calculated for the TE-model \\ntotal_TE, diffusion_TE, gravity_TE, intercept_TE = transport_efficiency_TE()\\n\\nc = pd.DataFrame(data = [total_TE, diffusion_TE, gravity_TE, intercept_TE], \\n                 index = ['Total', 'Diffusion', 'Gravity', 'Intercept'])\\nc_t = c.T\\nc_t = c_t.set_index(interval) \""
      ]
     },
     "execution_count": 6,
     "metadata": {},
     "output_type": "execute_result"
    }
   ],
   "source": [
    "''' #transport efficiency calculated for the Yao-model\n",
    "total_Yao, diffusion_Yao, gravity_Yao, intercept_Yao = transport_efficiency_Yao()\n",
    "\n",
    "a = pd.DataFrame(data = [total_Yao, diffusion_Yao, gravity_Yao, intercept_Yao], \n",
    "                 index = ['Total', 'Diffusion', 'Gravity', 'Intercept'])\n",
    "a_t = a.T\n",
    "a_t = a_t.set_index(interval)\n",
    "\n",
    "#transport efficiency calculated for the RT-model\n",
    "total_RT, diffusion_RT, gravity_RT, intercept_RT = transport_efficiency_RT()\n",
    "\n",
    "b = pd.DataFrame(data = [total_RT, diffusion_RT, gravity_RT, intercept_RT], \n",
    "                 index = ['Total', 'Diffusion', 'Gravity', 'Intercept'])\n",
    "b_t = b.T\n",
    "b_t = b_t.set_index(interval)\n",
    "\n",
    "#trasnport efficiency calculated for the TE-model \n",
    "total_TE, diffusion_TE, gravity_TE, intercept_TE = transport_efficiency_TE()\n",
    "\n",
    "c = pd.DataFrame(data = [total_TE, diffusion_TE, gravity_TE, intercept_TE], \n",
    "                 index = ['Total', 'Diffusion', 'Gravity', 'Intercept'])\n",
    "c_t = c.T\n",
    "c_t = c_t.set_index(interval) '''"
   ]
  },
  {
   "cell_type": "code",
   "execution_count": 11,
   "metadata": {},
   "outputs": [
    {
     "ename": "NameError",
     "evalue": "name 'np' is not defined",
     "output_type": "error",
     "traceback": [
      "Traceback \u001b[1;36m(most recent call last)\u001b[0m:\n",
      "\u001b[0m  Cell \u001b[0;32mIn[11], line 1\u001b[0m\n    n_D = ff.diffusion_Yao(particle_size_range, collector_diam, filtration_rate, temp, PI_VALUE)\u001b[0m\n",
      "\u001b[1;36m  File \u001b[1;32m~\\Documents\\Python\\Filtration models\\filtration_functions.py:51\u001b[1;36m in \u001b[1;35mdiffusion_Yao\u001b[1;36m\n\u001b[1;33m    Pe = (3 * np.pi * MU * particle_size_range * collector_diam\u001b[1;36m\n",
      "\u001b[1;31mNameError\u001b[0m\u001b[1;31m:\u001b[0m name 'np' is not defined\n"
     ]
    }
   ],
   "source": [
    "n_D = ff.diffusion_Yao(particle_size_range, collector_diam, filtration_rate, temp, PI_VALUE)"
   ]
  },
  {
   "cell_type": "code",
   "execution_count": 9,
   "metadata": {},
   "outputs": [
    {
     "ename": "TypeError",
     "evalue": "transport_efficiency_Yao() missing 1 required positional argument: 'PI_VALUE'",
     "output_type": "error",
     "traceback": [
      "Traceback \u001b[1;36m(most recent call last)\u001b[0m:\n",
      "\u001b[1;36m  Cell \u001b[1;32mIn[9], line 1\u001b[1;36m\n\u001b[1;33m    ff.transport_efficiency_Yao(particle_size_range, collector_diam, filtration_rate, temp)\u001b[1;36m\n",
      "\u001b[1;31mTypeError\u001b[0m\u001b[1;31m:\u001b[0m transport_efficiency_Yao() missing 1 required positional argument: 'PI_VALUE'\n"
     ]
    }
   ],
   "source": [
    "ff.transport_efficiency_Yao(particle_size_range, collector_diam, filtration_rate, temp)"
   ]
  },
  {
   "cell_type": "code",
   "execution_count": 8,
   "metadata": {},
   "outputs": [
    {
     "name": "stdout",
     "output_type": "stream",
     "text": [
      "3.141592653589793\n"
     ]
    }
   ],
   "source": [
    "print(np.pi)"
   ]
  },
  {
   "cell_type": "code",
   "execution_count": null,
   "metadata": {},
   "outputs": [],
   "source": [
    "#transport efficiency calculated for the Yao-model\n",
    "total_Yao, diffusion_Yao, gravity_Yao, intercept_Yao = transport_efficiency_Yao()\n",
    "\n",
    "a = pd.DataFrame(data = [total_Yao, diffusion_Yao, gravity_Yao, intercept_Yao], \n",
    "                 index = ['Total', 'Diffusion', 'Gravity', 'Intercept'])\n",
    "a_t = a.T\n",
    "a_t = a_t.set_index(interval)\n",
    "\n"
   ]
  },
  {
   "cell_type": "code",
   "execution_count": null,
   "metadata": {},
   "outputs": [],
   "source": [
    "a_t"
   ]
  },
  {
   "cell_type": "code",
   "execution_count": null,
   "metadata": {},
   "outputs": [],
   "source": [
    "#Yao model plot\n",
    "fig, ax1 = plt.subplots()\n",
    "ax1.set_yscale('log')\n",
    "ax1.set_xscale('log')\n",
    "a_t.plot(ax = ax1)\n",
    "plt.legend(prop={'size': 20})\n",
    "plt.title('Importance of transport mechanisms Yao-model', fontsize=28, pad = 10)\n",
    "plt.xticks(fontsize=14)\n",
    "plt.yticks(fontsize=14)\n",
    "plt.xlabel('Particle diameter [m]', fontsize=25)\n",
    "plt.ylabel('Transport efficiency [Dimensionless]', fontsize=25)\n",
    "plt.ylim(10**(-8), 10**(-1))\n",
    "plt.xticks(fontsize=20)\n",
    "plt.yticks(fontsize=20);"
   ]
  },
  {
   "cell_type": "code",
   "execution_count": null,
   "metadata": {},
   "outputs": [],
   "source": [
    "#RT-model plot\n",
    "fig, ax2 = plt.subplots()\n",
    "ax2.set_yscale('log')\n",
    "ax2.set_xscale('log')\n",
    "b_t.plot(ax = ax2)\n",
    "\n",
    "plt.legend(prop={'size': 20})\n",
    "plt.title('Importance of transport mechanisms RT-model', fontsize=28, pad = 10)\n",
    "plt.xticks(fontsize=14)\n",
    "plt.yticks(fontsize=14)\n",
    "plt.xlabel('Particle diameter [m]', fontsize=25)\n",
    "plt.ylabel('Transport efficiency [Dimensionless]', fontsize=25)\n",
    "plt.ylim(10**(-8), 10**(-1))\n",
    "plt.xticks(fontsize=20)\n",
    "plt.yticks(fontsize=20);"
   ]
  },
  {
   "cell_type": "code",
   "execution_count": null,
   "metadata": {},
   "outputs": [],
   "source": [
    "#TE-model plot\n",
    "fig, ax3 = plt.subplots()\n",
    "ax3.set_yscale('log')\n",
    "ax3.set_xscale('log')\n",
    "c_t.plot(ax = ax3)\n",
    "\n",
    "plt.legend(prop={'size': 20})\n",
    "plt.title('Importance of transport mechanisms TE-model', fontsize=28, pad = 10)\n",
    "plt.xticks(fontsize=14)\n",
    "plt.yticks(fontsize=14)\n",
    "plt.xlabel('Particle diameter [m]', fontsize=25)\n",
    "plt.ylabel('Transport efficiency [Dimensionless]', fontsize=25)\n",
    "plt.ylim(10**(-8), 10**(-1))\n",
    "plt.xticks(fontsize=20)\n",
    "plt.yticks(fontsize=20);"
   ]
  },
  {
   "cell_type": "code",
   "execution_count": null,
   "metadata": {},
   "outputs": [],
   "source": [
    "#removal efficiency Yao-model\n",
    "def yao_removal(d_c = collector, T = temp, rho_p = particle_density, L = 1, epsilon = porosity, c0 = 2.2, alpha = 1):\n",
    "    C = c0 * np.exp((-3 * (1 - epsilon) * total_Yao * alpha * L) / (2 * d_c))\n",
    "    removal_efficiency_yao = (1 - C/c0) * 100\n",
    "    return removal_efficiency_yao\n",
    "\n",
    "#removal efficiency RT-model\n",
    "def RT_removal(d_c = collector, T = temp, rho_p = particle_density, L = 1, epsilon = porosity, c0 = 2.2, alpha = 1):\n",
    "    C = c0 * np.exp((-3 * (1 - epsilon) * total_RT * alpha * L) / (2 * d_c))\n",
    "    removal_efficiency_RT = (1 - C/c0) * 100\n",
    "    return removal_efficiency_RT\n",
    "\n",
    "#removal efficiency TE-model\n",
    "def TE_removal(d_c = collector, T = temp, rho_p = particle_density, L = 1, epsilon = porosity, c0 = 2.2, alpha = 1):\n",
    "    C = c0 * np.exp((-3 * (1 - epsilon) * total_TE * alpha * L) / (2 * d_c))\n",
    "    removal_efficiency_TE = (1 - C/c0) * 100\n",
    "    return removal_efficiency_TE"
   ]
  },
  {
   "cell_type": "code",
   "execution_count": null,
   "metadata": {},
   "outputs": [],
   "source": [
    "#Removal efficiency calculated Yao-model\n",
    "removal_efficiency_yao = yao_removal()\n",
    "yao_df = pd.DataFrame(removal_efficiency_yao, index = interval)\n",
    "yao_df = yao_df.rename(columns={0:'removal Yao'})\n",
    "\n",
    "#Removal efficiency calculated RT-model\n",
    "removal_efficiency_RT = RT_removal()\n",
    "RT_df = pd.DataFrame(removal_efficiency_RT, index = interval)\n",
    "RT_df = RT_df.rename(columns={0:'removal RT'})\n",
    "\n",
    "#Removal efficiency calculated TE-model\n",
    "removal_efficiency_TE = TE_removal()\n",
    "TE_df = pd.DataFrame(removal_efficiency_TE, index = interval)\n",
    "TE_df = TE_df.rename(columns={0:'removal TE'})"
   ]
  },
  {
   "cell_type": "code",
   "execution_count": null,
   "metadata": {},
   "outputs": [],
   "source": [
    "#merging all removal efficiencies \n",
    "comparison = pd.concat([TE_df, RT_df, yao_df], axis=1)\n",
    "comparison"
   ]
  },
  {
   "cell_type": "code",
   "execution_count": null,
   "metadata": {},
   "outputs": [],
   "source": [
    "#Removal efficiency comparison plot\n",
    "fig, ax4 = plt.subplots()\n",
    "ax4.set_xscale('log')\n",
    "comparison.plot(ax = ax4)\n",
    "\n",
    "plt.legend(prop={'size': 20})\n",
    "plt.title('Removal efficiency all models', fontsize=28, pad = 10)\n",
    "plt.xticks(fontsize=14)\n",
    "plt.yticks(fontsize=14)\n",
    "plt.xlabel('Particle diameter [m]', fontsize=25)\n",
    "plt.ylabel('Removal efficiency [%]', fontsize=25)\n",
    "plt.ylim(0, 100)\n",
    "plt.xticks(fontsize=20)\n",
    "plt.yticks(fontsize=20);"
   ]
  },
  {
   "cell_type": "code",
   "execution_count": null,
   "metadata": {},
   "outputs": [],
   "source": []
  }
 ],
 "metadata": {
  "kernelspec": {
   "display_name": "Python 3 (Spyder)",
   "language": "python3",
   "name": "python3"
  },
  "language_info": {
   "codemirror_mode": {
    "name": "ipython",
    "version": 3
   },
   "file_extension": ".py",
   "mimetype": "text/x-python",
   "name": "python",
   "nbconvert_exporter": "python",
   "pygments_lexer": "ipython3",
   "version": "3.11.4"
  }
 },
 "nbformat": 4,
 "nbformat_minor": 4
}
